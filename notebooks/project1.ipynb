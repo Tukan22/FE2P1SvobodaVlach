{
 "cells": [
  {
   "cell_type": "markdown",
   "metadata": {},
   "source": [
    "# Part A"
   ]
  },
  {
   "cell_type": "markdown",
   "metadata": {},
   "source": [
    "### 1. Project environment & packages"
   ]
  },
  {
   "cell_type": "code",
   "execution_count": 30,
   "metadata": {},
   "outputs": [
    {
     "name": "stderr",
     "output_type": "stream",
     "text": [
      "\u001b[32m\u001b[1m  Activating\u001b[22m\u001b[39m project at `~/Library/CloudStorage/OneDrive-FSV/IES_mgr/Financial Ecox II/Projects/FE2P1SvobodaVlach`\n"
     ]
    }
   ],
   "source": [
    "using Pkg\n",
    "Pkg.activate(\"..\")\n",
    "\n",
    "using DrWatson\n",
    "@quickactivate \"FE2P1SvobodaVlach\""
   ]
  },
  {
   "cell_type": "code",
   "execution_count": 31,
   "metadata": {},
   "outputs": [],
   "source": [
    "using MarketData\n",
    "using Dates\n",
    "using DataFrames\n",
    "using StatsPlots\n",
    "using ARCHModels"
   ]
  },
  {
   "cell_type": "markdown",
   "metadata": {},
   "source": [
    "### 2. Download data for Apple"
   ]
  },
  {
   "cell_type": "code",
   "execution_count": 32,
   "metadata": {},
   "outputs": [
    {
     "data": {
      "text/plain": [
       "2024-01-01T00:00:00"
      ]
     },
     "execution_count": 32,
     "metadata": {},
     "output_type": "execute_result"
    }
   ],
   "source": [
    "ticker = \"AAPL\"\n",
    "\n",
    "start_date = DateTime(2023, 1, 1)\n",
    "stop_date = DateTime(2024, 1, 1)"
   ]
  },
  {
   "cell_type": "code",
   "execution_count": 33,
   "metadata": {},
   "outputs": [],
   "source": [
    "data_apple = DataFrame(yahoo(ticker, YahooOpt(period1 = start_date, period2 = stop_date)));"
   ]
  },
  {
   "cell_type": "markdown",
   "metadata": {},
   "source": [
    "### 3. Summary statistics & plots"
   ]
  },
  {
   "cell_type": "code",
   "execution_count": 34,
   "metadata": {},
   "outputs": [
    {
     "data": {
      "text/html": [
       "<div><div style = \"float: left;\"><span>3×7 DataFrame</span></div><div style = \"clear: both;\"></div></div><div class = \"data-frame\" style = \"overflow-x: scroll;\"><table class = \"data-frame\" style = \"margin-bottom: 6px;\"><thead><tr class = \"header\"><th class = \"rowNumber\" style = \"font-weight: bold; text-align: right;\">Row</th><th style = \"text-align: left;\">timestamp</th><th style = \"text-align: left;\">Open</th><th style = \"text-align: left;\">High</th><th style = \"text-align: left;\">Low</th><th style = \"text-align: left;\">Close</th><th style = \"text-align: left;\">AdjClose</th><th style = \"text-align: left;\">Volume</th></tr><tr class = \"subheader headerLastRow\"><th class = \"rowNumber\" style = \"font-weight: bold; text-align: right;\"></th><th title = \"Date\" style = \"text-align: left;\">Date</th><th title = \"Float64\" style = \"text-align: left;\">Float64</th><th title = \"Float64\" style = \"text-align: left;\">Float64</th><th title = \"Float64\" style = \"text-align: left;\">Float64</th><th title = \"Float64\" style = \"text-align: left;\">Float64</th><th title = \"Float64\" style = \"text-align: left;\">Float64</th><th title = \"Float64\" style = \"text-align: left;\">Float64</th></tr></thead><tbody><tr><td class = \"rowNumber\" style = \"font-weight: bold; text-align: right;\">1</td><td style = \"text-align: left;\">2023-01-03</td><td style = \"text-align: right;\">130.28</td><td style = \"text-align: right;\">130.9</td><td style = \"text-align: right;\">124.17</td><td style = \"text-align: right;\">125.07</td><td style = \"text-align: right;\">123.905</td><td style = \"text-align: right;\">1.12118e8</td></tr><tr><td class = \"rowNumber\" style = \"font-weight: bold; text-align: right;\">2</td><td style = \"text-align: left;\">2023-01-04</td><td style = \"text-align: right;\">126.89</td><td style = \"text-align: right;\">128.66</td><td style = \"text-align: right;\">125.08</td><td style = \"text-align: right;\">126.36</td><td style = \"text-align: right;\">125.183</td><td style = \"text-align: right;\">8.91136e7</td></tr><tr><td class = \"rowNumber\" style = \"font-weight: bold; text-align: right;\">3</td><td style = \"text-align: left;\">2023-01-05</td><td style = \"text-align: right;\">127.13</td><td style = \"text-align: right;\">127.77</td><td style = \"text-align: right;\">124.76</td><td style = \"text-align: right;\">125.02</td><td style = \"text-align: right;\">123.855</td><td style = \"text-align: right;\">8.09627e7</td></tr></tbody></table></div>"
      ],
      "text/latex": [
       "\\begin{tabular}{r|ccccccc}\n",
       "\t& timestamp & Open & High & Low & Close & AdjClose & Volume\\\\\n",
       "\t\\hline\n",
       "\t& Date & Float64 & Float64 & Float64 & Float64 & Float64 & Float64\\\\\n",
       "\t\\hline\n",
       "\t1 & 2023-01-03 & 130.28 & 130.9 & 124.17 & 125.07 & 123.905 & 1.12118e8 \\\\\n",
       "\t2 & 2023-01-04 & 126.89 & 128.66 & 125.08 & 126.36 & 125.183 & 8.91136e7 \\\\\n",
       "\t3 & 2023-01-05 & 127.13 & 127.77 & 124.76 & 125.02 & 123.855 & 8.09627e7 \\\\\n",
       "\\end{tabular}\n"
      ],
      "text/plain": [
       "\u001b[1m3×7 DataFrame\u001b[0m\n",
       "\u001b[1m Row \u001b[0m│\u001b[1m timestamp  \u001b[0m\u001b[1m Open    \u001b[0m\u001b[1m High    \u001b[0m\u001b[1m Low     \u001b[0m\u001b[1m Close   \u001b[0m\u001b[1m AdjClose \u001b[0m\u001b[1m Volume    \u001b[0m\n",
       "     │\u001b[90m Date       \u001b[0m\u001b[90m Float64 \u001b[0m\u001b[90m Float64 \u001b[0m\u001b[90m Float64 \u001b[0m\u001b[90m Float64 \u001b[0m\u001b[90m Float64  \u001b[0m\u001b[90m Float64   \u001b[0m\n",
       "─────┼─────────────────────────────────────────────────────────────────────\n",
       "   1 │ 2023-01-03   130.28   130.9    124.17   125.07   123.905  1.12118e8\n",
       "   2 │ 2023-01-04   126.89   128.66   125.08   126.36   125.183  8.91136e7\n",
       "   3 │ 2023-01-05   127.13   127.77   124.76   125.02   123.855  8.09627e7"
      ]
     },
     "execution_count": 34,
     "metadata": {},
     "output_type": "execute_result"
    }
   ],
   "source": [
    "first(data_apple, 3)"
   ]
  },
  {
   "cell_type": "code",
   "execution_count": 6,
   "metadata": {},
   "outputs": [
    {
     "data": {
      "text/plain": [
       "DataFrame"
      ]
     },
     "execution_count": 6,
     "metadata": {},
     "output_type": "execute_result"
    }
   ],
   "source": [
    "typeof(data_apple)"
   ]
  },
  {
   "cell_type": "code",
   "execution_count": 7,
   "metadata": {},
   "outputs": [
    {
     "data": {
      "text/plain": [
       "(250, 7)"
      ]
     },
     "execution_count": 7,
     "metadata": {},
     "output_type": "execute_result"
    }
   ],
   "source": [
    "size(data_apple)"
   ]
  },
  {
   "cell_type": "code",
   "execution_count": 36,
   "metadata": {},
   "outputs": [
    {
     "data": {
      "text/plain": [
       "\"/Users/tomassvoboda/Library/CloudStorage/OneDrive-FSV/IES_mgr/Financial Ecox II/Projects/FE2P1SvobodaVlach/plots/apple_adjclose.png\""
      ]
     },
     "execution_count": 36,
     "metadata": {},
     "output_type": "execute_result"
    }
   ],
   "source": [
    "plot(data_apple.timestamp, data_apple.AdjClose, \n",
    "    line=(1.5, 0.7, :solid), size=(800,300), palette=:seaborn_colorblind,\n",
    "    label=\"AdjClose\", xlabel=\"Time\", ylabel=\"AdjClose\") # Proc se nevejdou axis labels??\n",
    "\n",
    "savefig(plotsdir(\"apple_adjclose.png\")) # Save to \"plots/\""
   ]
  },
  {
   "cell_type": "code",
   "execution_count": 38,
   "metadata": {},
   "outputs": [
    {
     "name": "stdout",
     "output_type": "stream",
     "text": [
      "Summary Stats:\n",
      "Length:         250\n",
      "Missing Count:  0\n",
      "Mean:           171.470440\n",
      "Std. Deviation: 17.437952\n",
      "Minimum:        123.855095\n",
      "1st Quartile:   160.847191\n",
      "Median:         174.581650\n",
      "3rd Quartile:   186.470272\n",
      "Maximum:        197.361084\n",
      "Type:           Float64\n"
     ]
    }
   ],
   "source": [
    "summary_stats = describe(data_apple[:, :AdjClose])"
   ]
  },
  {
   "cell_type": "markdown",
   "metadata": {},
   "source": [
    "### 4. Model & forecast"
   ]
  },
  {
   "cell_type": "code",
   "execution_count": 39,
   "metadata": {},
   "outputs": [
    {
     "data": {
      "text/plain": [
       "10"
      ]
     },
     "execution_count": 39,
     "metadata": {},
     "output_type": "execute_result"
    }
   ],
   "source": [
    "# Parameters\n",
    "pred_length = 10 # Number of predictions"
   ]
  },
  {
   "cell_type": "code",
   "execution_count": 41,
   "metadata": {},
   "outputs": [
    {
     "data": {
      "text/plain": [
       "\"/Users/tomassvoboda/Library/CloudStorage/OneDrive-FSV/IES_mgr/Financial Ecox II/Projects/FE2P1SvobodaVlach/plots/apple_logreturns.png\""
      ]
     },
     "execution_count": 41,
     "metadata": {},
     "output_type": "execute_result"
    }
   ],
   "source": [
    "# Log-returns\n",
    "ret_apple = DataFrame(\n",
    "    returns = diff(log.(data_apple[:, :AdjClose])),\n",
    "    timestamp = data_apple.timestamp[2:end]\n",
    ")\n",
    "\n",
    "plot(ret_apple.timestamp, ret_apple.returns,\n",
    "    line=(1, 0.7), size=(800,300),\n",
    "    xlabel=\"Time\", ylabel=\"Log Returns\",\n",
    "    title=\"Apple Log-Returns\", label=\"Log-returns\"\n",
    ")\n",
    "\n",
    "savefig(plotsdir(\"apple_logreturns.png\")) # Save to \"plots/\""
   ]
  },
  {
   "cell_type": "code",
   "execution_count": 42,
   "metadata": {},
   "outputs": [
    {
     "data": {
      "text/plain": [
       "\"/Users/tomassvoboda/Library/CloudStorage/OneDrive-FSV/IES_mgr/Financial Ecox II/Projects/FE2P1SvobodaVlach/plots/apple_autocor.png\""
      ]
     },
     "execution_count": 42,
     "metadata": {},
     "output_type": "execute_result"
    }
   ],
   "source": [
    "# Autocoorelation function -> used on prices or returns???\n",
    "plot(autocor(ret_apple.returns, 1:20),\n",
    "    seriestype=:bar, \n",
    "    xlabel=\"Lag\", \n",
    "    ylabel=\"Autocorrelation\", \n",
    "    title=\"Autocorrelation Function for Apple Returns\")\n",
    "\n",
    "savefig(plotsdir(\"apple_autocor.png\")) # Save to \"plots/\""
   ]
  },
  {
   "cell_type": "code",
   "execution_count": 43,
   "metadata": {},
   "outputs": [
    {
     "data": {
      "text/html": [
       "<div><div style = \"float: left;\"><span>10×2 DataFrame</span></div><div style = \"clear: both;\"></div></div><div class = \"data-frame\" style = \"overflow-x: scroll;\"><table class = \"data-frame\" style = \"margin-bottom: 6px;\"><thead><tr class = \"header\"><th class = \"rowNumber\" style = \"font-weight: bold; text-align: right;\">Row</th><th style = \"text-align: left;\">returns</th><th style = \"text-align: left;\">timestamp</th></tr><tr class = \"subheader headerLastRow\"><th class = \"rowNumber\" style = \"font-weight: bold; text-align: right;\"></th><th title = \"Float64\" style = \"text-align: left;\">Float64</th><th title = \"Date\" style = \"text-align: left;\">Date</th></tr></thead><tbody><tr><td class = \"rowNumber\" style = \"font-weight: bold; text-align: right;\">1</td><td style = \"text-align: right;\">-0.00272951</td><td style = \"text-align: left;\">2023-12-15</td></tr><tr><td class = \"rowNumber\" style = \"font-weight: bold; text-align: right;\">2</td><td style = \"text-align: right;\">-0.00853965</td><td style = \"text-align: left;\">2023-12-18</td></tr><tr><td class = \"rowNumber\" style = \"font-weight: bold; text-align: right;\">3</td><td style = \"text-align: right;\">0.00534586</td><td style = \"text-align: left;\">2023-12-19</td></tr><tr><td class = \"rowNumber\" style = \"font-weight: bold; text-align: right;\">4</td><td style = \"text-align: right;\">-0.0107717</td><td style = \"text-align: left;\">2023-12-20</td></tr><tr><td class = \"rowNumber\" style = \"font-weight: bold; text-align: right;\">5</td><td style = \"text-align: right;\">-0.000770337</td><td style = \"text-align: left;\">2023-12-21</td></tr><tr><td class = \"rowNumber\" style = \"font-weight: bold; text-align: right;\">6</td><td style = \"text-align: right;\">-0.00556291</td><td style = \"text-align: left;\">2023-12-22</td></tr><tr><td class = \"rowNumber\" style = \"font-weight: bold; text-align: right;\">7</td><td style = \"text-align: right;\">-0.00284491</td><td style = \"text-align: left;\">2023-12-26</td></tr><tr><td class = \"rowNumber\" style = \"font-weight: bold; text-align: right;\">8</td><td style = \"text-align: right;\">0.000517801</td><td style = \"text-align: left;\">2023-12-27</td></tr><tr><td class = \"rowNumber\" style = \"font-weight: bold; text-align: right;\">9</td><td style = \"text-align: right;\">0.00222386</td><td style = \"text-align: left;\">2023-12-28</td></tr><tr><td class = \"rowNumber\" style = \"font-weight: bold; text-align: right;\">10</td><td style = \"text-align: right;\">-0.0054389</td><td style = \"text-align: left;\">2023-12-29</td></tr></tbody></table></div>"
      ],
      "text/latex": [
       "\\begin{tabular}{r|cc}\n",
       "\t& returns & timestamp\\\\\n",
       "\t\\hline\n",
       "\t& Float64 & Date\\\\\n",
       "\t\\hline\n",
       "\t1 & -0.00272951 & 2023-12-15 \\\\\n",
       "\t2 & -0.00853965 & 2023-12-18 \\\\\n",
       "\t3 & 0.00534586 & 2023-12-19 \\\\\n",
       "\t4 & -0.0107717 & 2023-12-20 \\\\\n",
       "\t5 & -0.000770337 & 2023-12-21 \\\\\n",
       "\t6 & -0.00556291 & 2023-12-22 \\\\\n",
       "\t7 & -0.00284491 & 2023-12-26 \\\\\n",
       "\t8 & 0.000517801 & 2023-12-27 \\\\\n",
       "\t9 & 0.00222386 & 2023-12-28 \\\\\n",
       "\t10 & -0.0054389 & 2023-12-29 \\\\\n",
       "\\end{tabular}\n"
      ],
      "text/plain": [
       "\u001b[1m10×2 DataFrame\u001b[0m\n",
       "\u001b[1m Row \u001b[0m│\u001b[1m returns      \u001b[0m\u001b[1m timestamp  \u001b[0m\n",
       "     │\u001b[90m Float64      \u001b[0m\u001b[90m Date       \u001b[0m\n",
       "─────┼──────────────────────────\n",
       "   1 │ -0.00272951   2023-12-15\n",
       "   2 │ -0.00853965   2023-12-18\n",
       "   3 │  0.00534586   2023-12-19\n",
       "   4 │ -0.0107717    2023-12-20\n",
       "   5 │ -0.000770337  2023-12-21\n",
       "   6 │ -0.00556291   2023-12-22\n",
       "   7 │ -0.00284491   2023-12-26\n",
       "   8 │  0.000517801  2023-12-27\n",
       "   9 │  0.00222386   2023-12-28\n",
       "  10 │ -0.0054389    2023-12-29"
      ]
     },
     "execution_count": 43,
     "metadata": {},
     "output_type": "execute_result"
    }
   ],
   "source": [
    "# Train-test split\n",
    "train_apple = ret_apple[1:end-pred_length, :]\n",
    "test_apple = ret_apple[end-pred_length+1:end, :]"
   ]
  },
  {
   "cell_type": "code",
   "execution_count": 44,
   "metadata": {},
   "outputs": [
    {
     "data": {
      "text/plain": [
       "\n",
       "GARCH{1, 1} model with Gaussian errors, T=239.\n",
       "\n",
       "Mean equation parameters:\n",
       "─────────────────────────────────────────────\n",
       "     Estimate    Std.Error  z value  Pr(>|z|)\n",
       "─────────────────────────────────────────────\n",
       "μ  0.00196091  0.000832065  2.35667    0.0184\n",
       "─────────────────────────────────────────────\n",
       "\n",
       "Volatility parameters:\n",
       "──────────────────────────────────────────────\n",
       "      Estimate   Std.Error   z value  Pr(>|z|)\n",
       "──────────────────────────────────────────────\n",
       "ω   8.97317e-6  1.86878e-5  0.480161    0.6311\n",
       "β₁  0.93601     0.128385    7.29063     <1e-12\n",
       "α₁  0.00649435  0.0314277   0.206644    0.8363\n",
       "──────────────────────────────────────────────\n"
      ]
     },
     "execution_count": 44,
     "metadata": {},
     "output_type": "execute_result"
    }
   ],
   "source": [
    "# Fit\n",
    "garch_fit = fit(GARCH{1,1}, train_apple.returns)"
   ]
  },
  {
   "cell_type": "code",
   "execution_count": 45,
   "metadata": {},
   "outputs": [
    {
     "data": {
      "text/plain": [
       "5-element Vector{Float64}:\n",
       " 0.00015029206198447778\n",
       " 0.00015062412469887994\n",
       " 0.00015093709532729927\n",
       " 0.00015123207157728127\n",
       " 0.00015151008804321258"
      ]
     },
     "execution_count": 45,
     "metadata": {},
     "output_type": "execute_result"
    }
   ],
   "source": [
    "garch_pred = predict.(garch_fit, :variance, 1:5)"
   ]
  },
  {
   "cell_type": "markdown",
   "metadata": {},
   "source": [
    "### 5. Forecasts plot"
   ]
  },
  {
   "cell_type": "code",
   "execution_count": 20,
   "metadata": {},
   "outputs": [],
   "source": [
    "#p1 = plot(ret_apple.returns, lab=\"True returns\", leg=:topright, title=\"GARCH Model, Err: $(mean(abs2, ret_apple.returns - garch_pred))\", palette=:Set2_3)\n",
    "#p1 = plot!(garch_pred, lab=\"Predicted\")"
   ]
  },
  {
   "cell_type": "markdown",
   "metadata": {},
   "source": [
    "# Part B"
   ]
  }
 ],
 "metadata": {
  "kernelspec": {
   "display_name": "Julia 1.10.5",
   "language": "julia",
   "name": "julia-1.10"
  },
  "language_info": {
   "file_extension": ".jl",
   "mimetype": "application/julia",
   "name": "julia",
   "version": "1.10.5"
  }
 },
 "nbformat": 4,
 "nbformat_minor": 2
}
